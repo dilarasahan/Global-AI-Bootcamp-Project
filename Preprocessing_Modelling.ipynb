{
  "nbformat": 4,
  "nbformat_minor": 0,
  "metadata": {
    "colab": {
      "provenance": []
    },
    "kernelspec": {
      "name": "python3",
      "display_name": "Python 3"
    },
    "language_info": {
      "name": "python"
    }
  },
  "cells": [
    {
      "cell_type": "code",
      "execution_count": 1,
      "metadata": {
        "colab": {
          "base_uri": "https://localhost:8080/"
        },
        "id": "JEVRA6dMW5jK",
        "outputId": "6b114f08-4e57-4e25-c795-f3e1cd083acf"
      },
      "outputs": [
        {
          "output_type": "stream",
          "name": "stdout",
          "text": [
            "Mounted at /content/gdrive\n"
          ]
        }
      ],
      "source": [
        "import pathlib\n",
        "from google.colab import drive\n",
        "drive.mount('/content/gdrive',force_remount=True)"
      ]
    },
    {
      "cell_type": "code",
      "source": [
        "import os\n",
        "import cv2\n",
        "import pandas as pd"
      ],
      "metadata": {
        "id": "ADpmAbavbRWI"
      },
      "execution_count": 2,
      "outputs": []
    },
    {
      "cell_type": "code",
      "source": [
        "df = pd.DataFrame({\"image\":[],\n",
        "                         \"label\":[]})"
      ],
      "metadata": {
        "id": "yOZ5xKmLhJbX"
      },
      "execution_count": 3,
      "outputs": []
    },
    {
      "cell_type": "code",
      "source": [
        "for i in range(10):\n",
        "  path = r\"/content/gdrive/MyDrive/spectrograms/\" + str(i)\n",
        "  for j in os.listdir(path):\n",
        "    img = cv2.imread(path + '/' + j)\n",
        "    img = cv2.cvtColor(img, cv2.COLOR_RGB2GRAY)\n",
        "    img.resize((128,128))\n",
        "    img = img/255\n",
        "    df.loc[len(df)] = [img, i]"
      ],
      "metadata": {
        "colab": {
          "base_uri": "https://localhost:8080/"
        },
        "id": "NhWkNhgHeehJ",
        "outputId": "75aebd47-be94-4dd9-b160-898c35b6ec7b"
      },
      "execution_count": 4,
      "outputs": [
        {
          "output_type": "stream",
          "name": "stderr",
          "text": [
            "/usr/local/lib/python3.7/dist-packages/pandas/core/dtypes/cast.py:881: VisibleDeprecationWarning: Creating an ndarray from ragged nested sequences (which is a list-or-tuple of lists-or-tuples-or ndarrays with different lengths or shapes) is deprecated. If you meant to do this, you must specify 'dtype=object' when creating the ndarray.\n",
            "  element = np.asarray(element)\n"
          ]
        }
      ]
    },
    {
      "cell_type": "code",
      "source": [
        "df"
      ],
      "metadata": {
        "colab": {
          "base_uri": "https://localhost:8080/",
          "height": 424
        },
        "id": "YEohd_ZNk0ze",
        "outputId": "373b1308-1c84-45da-8b51-9d1e96012bfd"
      },
      "execution_count": 5,
      "outputs": [
        {
          "output_type": "execute_result",
          "data": {
            "text/plain": [
              "                                                  image  label\n",
              "0     [[1.0, 1.0, 1.0, 1.0, 0.8901960784313725, 0.0,...    0.0\n",
              "1     [[1.0, 1.0, 1.0, 1.0, 0.8901960784313725, 0.0,...    0.0\n",
              "2     [[1.0, 1.0, 1.0, 1.0, 0.8901960784313725, 0.0,...    0.0\n",
              "3     [[1.0, 1.0, 1.0, 1.0, 0.8901960784313725, 0.0,...    0.0\n",
              "4     [[1.0, 1.0, 1.0, 1.0, 0.8901960784313725, 0.0,...    0.0\n",
              "...                                                 ...    ...\n",
              "8727  [[1.0, 1.0, 1.0, 1.0, 0.8901960784313725, 0.0,...    9.0\n",
              "8728  [[1.0, 1.0, 1.0, 1.0, 0.8901960784313725, 0.0,...    9.0\n",
              "8729  [[1.0, 1.0, 1.0, 1.0, 0.8901960784313725, 0.0,...    9.0\n",
              "8730  [[1.0, 1.0, 1.0, 1.0, 0.8901960784313725, 0.0,...    9.0\n",
              "8731  [[1.0, 1.0, 1.0, 1.0, 0.8901960784313725, 0.0,...    9.0\n",
              "\n",
              "[8732 rows x 2 columns]"
            ],
            "text/html": [
              "\n",
              "  <div id=\"df-de298e4a-856a-475d-b2af-828d7c255884\">\n",
              "    <div class=\"colab-df-container\">\n",
              "      <div>\n",
              "<style scoped>\n",
              "    .dataframe tbody tr th:only-of-type {\n",
              "        vertical-align: middle;\n",
              "    }\n",
              "\n",
              "    .dataframe tbody tr th {\n",
              "        vertical-align: top;\n",
              "    }\n",
              "\n",
              "    .dataframe thead th {\n",
              "        text-align: right;\n",
              "    }\n",
              "</style>\n",
              "<table border=\"1\" class=\"dataframe\">\n",
              "  <thead>\n",
              "    <tr style=\"text-align: right;\">\n",
              "      <th></th>\n",
              "      <th>image</th>\n",
              "      <th>label</th>\n",
              "    </tr>\n",
              "  </thead>\n",
              "  <tbody>\n",
              "    <tr>\n",
              "      <th>0</th>\n",
              "      <td>[[1.0, 1.0, 1.0, 1.0, 0.8901960784313725, 0.0,...</td>\n",
              "      <td>0.0</td>\n",
              "    </tr>\n",
              "    <tr>\n",
              "      <th>1</th>\n",
              "      <td>[[1.0, 1.0, 1.0, 1.0, 0.8901960784313725, 0.0,...</td>\n",
              "      <td>0.0</td>\n",
              "    </tr>\n",
              "    <tr>\n",
              "      <th>2</th>\n",
              "      <td>[[1.0, 1.0, 1.0, 1.0, 0.8901960784313725, 0.0,...</td>\n",
              "      <td>0.0</td>\n",
              "    </tr>\n",
              "    <tr>\n",
              "      <th>3</th>\n",
              "      <td>[[1.0, 1.0, 1.0, 1.0, 0.8901960784313725, 0.0,...</td>\n",
              "      <td>0.0</td>\n",
              "    </tr>\n",
              "    <tr>\n",
              "      <th>4</th>\n",
              "      <td>[[1.0, 1.0, 1.0, 1.0, 0.8901960784313725, 0.0,...</td>\n",
              "      <td>0.0</td>\n",
              "    </tr>\n",
              "    <tr>\n",
              "      <th>...</th>\n",
              "      <td>...</td>\n",
              "      <td>...</td>\n",
              "    </tr>\n",
              "    <tr>\n",
              "      <th>8727</th>\n",
              "      <td>[[1.0, 1.0, 1.0, 1.0, 0.8901960784313725, 0.0,...</td>\n",
              "      <td>9.0</td>\n",
              "    </tr>\n",
              "    <tr>\n",
              "      <th>8728</th>\n",
              "      <td>[[1.0, 1.0, 1.0, 1.0, 0.8901960784313725, 0.0,...</td>\n",
              "      <td>9.0</td>\n",
              "    </tr>\n",
              "    <tr>\n",
              "      <th>8729</th>\n",
              "      <td>[[1.0, 1.0, 1.0, 1.0, 0.8901960784313725, 0.0,...</td>\n",
              "      <td>9.0</td>\n",
              "    </tr>\n",
              "    <tr>\n",
              "      <th>8730</th>\n",
              "      <td>[[1.0, 1.0, 1.0, 1.0, 0.8901960784313725, 0.0,...</td>\n",
              "      <td>9.0</td>\n",
              "    </tr>\n",
              "    <tr>\n",
              "      <th>8731</th>\n",
              "      <td>[[1.0, 1.0, 1.0, 1.0, 0.8901960784313725, 0.0,...</td>\n",
              "      <td>9.0</td>\n",
              "    </tr>\n",
              "  </tbody>\n",
              "</table>\n",
              "<p>8732 rows × 2 columns</p>\n",
              "</div>\n",
              "      <button class=\"colab-df-convert\" onclick=\"convertToInteractive('df-de298e4a-856a-475d-b2af-828d7c255884')\"\n",
              "              title=\"Convert this dataframe to an interactive table.\"\n",
              "              style=\"display:none;\">\n",
              "        \n",
              "  <svg xmlns=\"http://www.w3.org/2000/svg\" height=\"24px\"viewBox=\"0 0 24 24\"\n",
              "       width=\"24px\">\n",
              "    <path d=\"M0 0h24v24H0V0z\" fill=\"none\"/>\n",
              "    <path d=\"M18.56 5.44l.94 2.06.94-2.06 2.06-.94-2.06-.94-.94-2.06-.94 2.06-2.06.94zm-11 1L8.5 8.5l.94-2.06 2.06-.94-2.06-.94L8.5 2.5l-.94 2.06-2.06.94zm10 10l.94 2.06.94-2.06 2.06-.94-2.06-.94-.94-2.06-.94 2.06-2.06.94z\"/><path d=\"M17.41 7.96l-1.37-1.37c-.4-.4-.92-.59-1.43-.59-.52 0-1.04.2-1.43.59L10.3 9.45l-7.72 7.72c-.78.78-.78 2.05 0 2.83L4 21.41c.39.39.9.59 1.41.59.51 0 1.02-.2 1.41-.59l7.78-7.78 2.81-2.81c.8-.78.8-2.07 0-2.86zM5.41 20L4 18.59l7.72-7.72 1.47 1.35L5.41 20z\"/>\n",
              "  </svg>\n",
              "      </button>\n",
              "      \n",
              "  <style>\n",
              "    .colab-df-container {\n",
              "      display:flex;\n",
              "      flex-wrap:wrap;\n",
              "      gap: 12px;\n",
              "    }\n",
              "\n",
              "    .colab-df-convert {\n",
              "      background-color: #E8F0FE;\n",
              "      border: none;\n",
              "      border-radius: 50%;\n",
              "      cursor: pointer;\n",
              "      display: none;\n",
              "      fill: #1967D2;\n",
              "      height: 32px;\n",
              "      padding: 0 0 0 0;\n",
              "      width: 32px;\n",
              "    }\n",
              "\n",
              "    .colab-df-convert:hover {\n",
              "      background-color: #E2EBFA;\n",
              "      box-shadow: 0px 1px 2px rgba(60, 64, 67, 0.3), 0px 1px 3px 1px rgba(60, 64, 67, 0.15);\n",
              "      fill: #174EA6;\n",
              "    }\n",
              "\n",
              "    [theme=dark] .colab-df-convert {\n",
              "      background-color: #3B4455;\n",
              "      fill: #D2E3FC;\n",
              "    }\n",
              "\n",
              "    [theme=dark] .colab-df-convert:hover {\n",
              "      background-color: #434B5C;\n",
              "      box-shadow: 0px 1px 3px 1px rgba(0, 0, 0, 0.15);\n",
              "      filter: drop-shadow(0px 1px 2px rgba(0, 0, 0, 0.3));\n",
              "      fill: #FFFFFF;\n",
              "    }\n",
              "  </style>\n",
              "\n",
              "      <script>\n",
              "        const buttonEl =\n",
              "          document.querySelector('#df-de298e4a-856a-475d-b2af-828d7c255884 button.colab-df-convert');\n",
              "        buttonEl.style.display =\n",
              "          google.colab.kernel.accessAllowed ? 'block' : 'none';\n",
              "\n",
              "        async function convertToInteractive(key) {\n",
              "          const element = document.querySelector('#df-de298e4a-856a-475d-b2af-828d7c255884');\n",
              "          const dataTable =\n",
              "            await google.colab.kernel.invokeFunction('convertToInteractive',\n",
              "                                                     [key], {});\n",
              "          if (!dataTable) return;\n",
              "\n",
              "          const docLinkHtml = 'Like what you see? Visit the ' +\n",
              "            '<a target=\"_blank\" href=https://colab.research.google.com/notebooks/data_table.ipynb>data table notebook</a>'\n",
              "            + ' to learn more about interactive tables.';\n",
              "          element.innerHTML = '';\n",
              "          dataTable['output_type'] = 'display_data';\n",
              "          await google.colab.output.renderOutput(dataTable, element);\n",
              "          const docLink = document.createElement('div');\n",
              "          docLink.innerHTML = docLinkHtml;\n",
              "          element.appendChild(docLink);\n",
              "        }\n",
              "      </script>\n",
              "    </div>\n",
              "  </div>\n",
              "  "
            ]
          },
          "metadata": {},
          "execution_count": 5
        }
      ]
    },
    {
      "cell_type": "code",
      "source": [
        "df = df.sample(frac = 1)"
      ],
      "metadata": {
        "id": "RWN3lxLDZDok"
      },
      "execution_count": 6,
      "outputs": []
    },
    {
      "cell_type": "code",
      "source": [
        "df[\"label\"] = df[\"label\"].astype(int)"
      ],
      "metadata": {
        "id": "coFvycRAZILs"
      },
      "execution_count": 7,
      "outputs": []
    },
    {
      "cell_type": "code",
      "source": [
        "df[\"image\"] = [i.astype('float64') for i in df[\"image\"]]"
      ],
      "metadata": {
        "id": "wkxE2sdnJZf4"
      },
      "execution_count": 36,
      "outputs": []
    },
    {
      "cell_type": "code",
      "source": [
        "filename = \"/content/spectrogram.csv\" \n",
        "df.to_csv(filename, encoding='utf-8', index = False )"
      ],
      "metadata": {
        "id": "aqs5qWsym3r9"
      },
      "execution_count": 8,
      "outputs": []
    },
    {
      "cell_type": "markdown",
      "source": [
        "###  Modelling"
      ],
      "metadata": {
        "id": "6twJEMU5HguC"
      }
    },
    {
      "cell_type": "code",
      "source": [
        "import pandas as pd\n",
        "import numpy as np\n",
        "from  sklearn.model_selection import train_test_split\n",
        "from tensorflow.keras import datasets, layers, models\n",
        "import tensorflow as tf\n",
        "from keras.models import Sequential\n",
        "from keras.layers import Conv2D\n",
        "from keras.layers import MaxPooling2D\n",
        "from keras.layers import Dense\n",
        "from keras.layers import Flatten\n",
        "import matplotlib.pyplot as plt"
      ],
      "metadata": {
        "id": "9G7yYkV3HgSR"
      },
      "execution_count": 19,
      "outputs": []
    },
    {
      "cell_type": "markdown",
      "source": [
        "# Train-Test-Val Split"
      ],
      "metadata": {
        "id": "CAtynGDkH6SC"
      }
    },
    {
      "cell_type": "code",
      "source": [
        "def train_test_val_split(data,target,test_ratio, val_ratio):\n",
        "  X = data.drop(target, axis = 1)\n",
        "  y = data[target]\n",
        "  X_train, X_test, y_train, y_test = train_test_split(X, y, test_size= test_ratio, random_state=1)\n",
        "  X_train, X_val, y_train, y_val = train_test_split(X_train, y_train, test_size=val_ratio, random_state=1)\n",
        "\n",
        "  return  X_train, X_test, y_train, y_test, X_val, y_val"
      ],
      "metadata": {
        "id": "xVDpTBzEGMim"
      },
      "execution_count": 94,
      "outputs": []
    },
    {
      "cell_type": "code",
      "source": [
        "X_train, X_test, y_train, y_test, X_val, y_val = train_test_val_split(df,\"label\",0.2,0.1)"
      ],
      "metadata": {
        "id": "82_eWYmtIBBr"
      },
      "execution_count": 95,
      "outputs": []
    },
    {
      "cell_type": "code",
      "source": [
        "X_train.reset_index(drop = True,inplace = True)\n",
        "X_test.reset_index(drop = True,inplace = True)\n",
        "y_train.reset_index(drop = True,inplace = True)\n",
        "y_test.reset_index(drop = True,inplace = True)\n",
        "X_val.reset_index(drop = True,inplace = True)\n",
        "y_val.reset_index(drop = True,inplace = True)"
      ],
      "metadata": {
        "id": "XkMj3QamIJm-"
      },
      "execution_count": 96,
      "outputs": []
    },
    {
      "cell_type": "markdown",
      "source": [
        "# Model Creation"
      ],
      "metadata": {
        "id": "QollhuT6IMb_"
      }
    },
    {
      "cell_type": "code",
      "source": [
        "def create_model(input_shape,class_count):\n",
        "    model = Sequential()\n",
        "    model.add(layers.Conv2D(32, (3, 3), activation='relu', input_shape= input_shape))\n",
        "    model.add(layers.MaxPooling2D((2, 2)))\n",
        "    model.add(layers.Conv2D(64, (3, 3), activation='relu'))\n",
        "    model.add(layers.MaxPooling2D((2, 2)))\n",
        "    model.add(layers.Conv2D(64, (3, 3), activation='relu'))\n",
        "    model.add(layers.Flatten())\n",
        "    model.add(layers.Dense(64, activation='relu'))\n",
        "    model.add(layers.Dense(class_count, activation = 'softmax'))     \n",
        "\n",
        "    return model "
      ],
      "metadata": {
        "id": "HbSkuWjMIO7H"
      },
      "execution_count": 108,
      "outputs": []
    },
    {
      "cell_type": "code",
      "source": [
        "def compile_model(model,optimizer,metrics):\n",
        "    model.compile(optimizer=optimizer,\n",
        "              loss=tf.keras.losses.SparseCategoricalCrossentropy(from_logits=True),\n",
        "              metrics=metrics)"
      ],
      "metadata": {
        "id": "HBfIMdrbIRvW"
      },
      "execution_count": 116,
      "outputs": []
    },
    {
      "cell_type": "code",
      "source": [
        "def fit_model(model,batch,epoch):\n",
        "  history = model.fit(X_train, y_train,\n",
        "                      batch_size=batch,\n",
        "                      epochs=epoch,\n",
        "                      verbose=0,\n",
        "                      validation_data=(X_val, y_val),\n",
        "                      shuffle=True)\n",
        "  return history"
      ],
      "metadata": {
        "id": "9QSb7qMmIYUG"
      },
      "execution_count": 99,
      "outputs": []
    },
    {
      "cell_type": "code",
      "source": [
        "input_shape = (128,128,1)\n",
        "model = create_model(input_shape, 10)"
      ],
      "metadata": {
        "id": "Fcv6EYXeIdUt"
      },
      "execution_count": 117,
      "outputs": []
    },
    {
      "cell_type": "code",
      "source": [
        "metrics = ['accuracy']\n",
        "compile_model(model,'adam', metrics)"
      ],
      "metadata": {
        "id": "pc1iZAI9IfKW"
      },
      "execution_count": 118,
      "outputs": []
    },
    {
      "cell_type": "code",
      "source": [
        "X_train= tf.convert_to_tensor([np.array(i) for i in X_train.image])"
      ],
      "metadata": {
        "id": "iW98cXQ3Vv5L"
      },
      "execution_count": 102,
      "outputs": []
    },
    {
      "cell_type": "code",
      "source": [
        "X_val = tf.convert_to_tensor([np.array(i) for i in X_val.image])"
      ],
      "metadata": {
        "id": "uBAfzm0QdNCm"
      },
      "execution_count": 105,
      "outputs": []
    },
    {
      "cell_type": "code",
      "source": [
        "import warnings\n",
        "warnings.filterwarnings('ignore')\n",
        "history = model.fit(X_train, y_train,\n",
        "                      batch_size=32,\n",
        "                      epochs=10,\n",
        "                      validation_data=(X_val, y_val),\n",
        "                      shuffle=True)"
      ],
      "metadata": {
        "colab": {
          "base_uri": "https://localhost:8080/"
        },
        "id": "3_StZ-izIjaW",
        "outputId": "47c71133-2be8-4ad5-8afc-879f96f01bb5"
      },
      "execution_count": 120,
      "outputs": [
        {
          "output_type": "stream",
          "name": "stdout",
          "text": [
            "Epoch 1/10\n",
            "197/197 [==============================] - 184s 937ms/step - loss: 2.0446 - accuracy: 0.2111 - val_loss: 2.0030 - val_accuracy: 0.2246\n",
            "Epoch 2/10\n",
            "197/197 [==============================] - 148s 752ms/step - loss: 1.9641 - accuracy: 0.2405 - val_loss: 1.9728 - val_accuracy: 0.1946\n",
            "Epoch 3/10\n",
            "197/197 [==============================] - 151s 764ms/step - loss: 1.9203 - accuracy: 0.2558 - val_loss: 1.9567 - val_accuracy: 0.2103\n",
            "Epoch 4/10\n",
            "197/197 [==============================] - 148s 753ms/step - loss: 1.8946 - accuracy: 0.2717 - val_loss: 1.9132 - val_accuracy: 0.2489\n",
            "Epoch 5/10\n",
            "197/197 [==============================] - 148s 752ms/step - loss: 1.8635 - accuracy: 0.2693 - val_loss: 1.9695 - val_accuracy: 0.2403\n",
            "Epoch 6/10\n",
            "197/197 [==============================] - 153s 778ms/step - loss: 1.8284 - accuracy: 0.2906 - val_loss: 1.9142 - val_accuracy: 0.2446\n",
            "Epoch 7/10\n",
            "197/197 [==============================] - 160s 811ms/step - loss: 1.8007 - accuracy: 0.2930 - val_loss: 1.9660 - val_accuracy: 0.2432\n",
            "Epoch 8/10\n",
            "197/197 [==============================] - 155s 789ms/step - loss: 1.7549 - accuracy: 0.3112 - val_loss: 1.8943 - val_accuracy: 0.2761\n",
            "Epoch 9/10\n",
            "197/197 [==============================] - 150s 763ms/step - loss: 1.7141 - accuracy: 0.3349 - val_loss: 1.9902 - val_accuracy: 0.2361\n",
            "Epoch 10/10\n",
            "197/197 [==============================] - 149s 755ms/step - loss: 1.6836 - accuracy: 0.3411 - val_loss: 1.8972 - val_accuracy: 0.2933\n"
          ]
        }
      ]
    },
    {
      "cell_type": "code",
      "source": [
        "print(history.history.keys())"
      ],
      "metadata": {
        "colab": {
          "base_uri": "https://localhost:8080/"
        },
        "id": "37KRlpLmIyt0",
        "outputId": "9e370b23-044b-483c-ceae-57d0cf3b0284"
      },
      "execution_count": 121,
      "outputs": [
        {
          "output_type": "stream",
          "name": "stdout",
          "text": [
            "dict_keys(['loss', 'accuracy', 'val_loss', 'val_accuracy'])\n"
          ]
        }
      ]
    },
    {
      "cell_type": "code",
      "source": [
        "plt.plot(history.history['accuracy'])\n",
        "plt.plot(history.history['val_accuracy'])\n",
        "plt.title('model accuracy')\n",
        "plt.ylabel('accuracy')\n",
        "plt.xlabel('epoch')\n",
        "plt.legend(['train', 'validation'], loc='upper left')\n",
        "plt.show()"
      ],
      "metadata": {
        "colab": {
          "base_uri": "https://localhost:8080/",
          "height": 295
        },
        "id": "MkemlNGYiosD",
        "outputId": "3ca8c694-054f-49ce-b2fa-c78ae92fe5c6"
      },
      "execution_count": 122,
      "outputs": [
        {
          "output_type": "display_data",
          "data": {
            "text/plain": [
              "<Figure size 432x288 with 1 Axes>"
            ],
            "image/png": "[encoded data removed]"
          },
          "metadata": {
            "needs_background": "light"
          }
        }
      ]
    },
    {
      "cell_type": "code",
      "source": [
        "plt.plot(history.history['loss'])\n",
        "plt.plot(history.history['val_loss'])\n",
        "plt.title('model loss')\n",
        "plt.ylabel('loss')\n",
        "plt.xlabel('epoch')\n",
        "plt.legend(['train', 'validation'], loc='upper left')\n",
        "plt.show()"
      ],
      "metadata": {
        "colab": {
          "base_uri": "https://localhost:8080/",
          "height": 295
        },
        "id": "yWCkIontioqG",
        "outputId": "d2b37ffe-7bf7-42e2-b688-e70ef3c6fd0a"
      },
      "execution_count": 123,
      "outputs": [
        {
          "output_type": "display_data",
          "data": {
            "text/plain": [
              "<Figure size 432x288 with 1 Axes>"
            ],
            "image/png": "[encoded data removed]"
          },
          "metadata": {
            "needs_background": "light"
          }
        }
      ]
    },
    {
      "cell_type": "markdown",
      "source": [
        "# Evaluate Test data"
      ],
      "metadata": {
        "id": "DmCH7SCUjV1r"
      }
    },
    {
      "cell_type": "code",
      "source": [
        "test_eval = model.evaluate(X_test, y_test)"
      ],
      "metadata": {
        "colab": {
          "base_uri": "https://localhost:8080/"
        },
        "id": "3mplzxYxions",
        "outputId": "a765b0b8-b6b1-4efb-b1d5-5c28a113f1df"
      },
      "execution_count": 127,
      "outputs": [
        {
          "output_type": "stream",
          "name": "stdout",
          "text": [
            "55/55 [==============================] - 12s 214ms/step - loss: 1.8543 - accuracy: 0.2914\n"
          ]
        }
      ]
    },
    {
      "cell_type": "code",
      "source": [
        "print('Test loss:', test_eval[0])\n",
        "print('Test accuracy:', test_eval[1])"
      ],
      "metadata": {
        "colab": {
          "base_uri": "https://localhost:8080/"
        },
        "id": "pJ3-B2YqiolL",
        "outputId": "ec71f76b-8e93-434f-9f83-42298092ce08"
      },
      "execution_count": 128,
      "outputs": [
        {
          "output_type": "stream",
          "name": "stdout",
          "text": [
            "Test loss: 1.8542591333389282\n",
            "Test accuracy: 0.29135662317276\n"
          ]
        }
      ]
    },
    {
      "cell_type": "markdown",
      "source": [
        "# Prediction"
      ],
      "metadata": {
        "id": "YZ3ncGiMnT39"
      }
    },
    {
      "cell_type": "code",
      "source": [
        "predicted_classes = model.predict(X_test)"
      ],
      "metadata": {
        "id": "-JfOeWNUnDnt"
      },
      "execution_count": 134,
      "outputs": []
    },
    {
      "cell_type": "code",
      "source": [
        "predicted_classes = np.argmax(predicted_classes,axis=1)"
      ],
      "metadata": {
        "id": "HgUoc0UJioiN"
      },
      "execution_count": 135,
      "outputs": []
    },
    {
      "cell_type": "code",
      "source": [
        "from sklearn.metrics import classification_report\n",
        "target_names = [\"Class {}\".format(i) for i in range(10)]\n",
        "print(classification_report(y_test, predicted_classes, target_names=target_names))"
      ],
      "metadata": {
        "colab": {
          "base_uri": "https://localhost:8080/"
        },
        "id": "agOEpRRUioaV",
        "outputId": "339839b4-a61d-4e9e-8fea-e2293688ca91"
      },
      "execution_count": 136,
      "outputs": [
        {
          "output_type": "stream",
          "name": "stdout",
          "text": [
            "              precision    recall  f1-score   support\n",
            "\n",
            "     Class 0       0.63      0.12      0.20       205\n",
            "     Class 1       0.17      0.05      0.08        77\n",
            "     Class 2       0.23      0.12      0.16       204\n",
            "     Class 3       0.14      0.05      0.07       219\n",
            "     Class 4       0.63      0.48      0.54       181\n",
            "     Class 5       0.47      0.18      0.27       179\n",
            "     Class 6       0.69      0.72      0.71        72\n",
            "     Class 7       0.61      0.48      0.54       194\n",
            "     Class 8       0.17      0.88      0.28       186\n",
            "     Class 9       0.19      0.07      0.11       230\n",
            "\n",
            "    accuracy                           0.29      1747\n",
            "   macro avg       0.39      0.32      0.29      1747\n",
            "weighted avg       0.38      0.29      0.27      1747\n",
            "\n"
          ]
        }
      ]
    },
    {
      "cell_type": "code",
      "source": [],
      "metadata": {
        "id": "GIqY-1whomE9"
      },
      "execution_count": null,
      "outputs": []
    }
  ]
}